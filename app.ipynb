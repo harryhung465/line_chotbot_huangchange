{
 "cells": [
  {
   "cell_type": "code",
   "execution_count": 1,
   "metadata": {},
   "outputs": [
    {
     "data": {
      "text/plain": [
       "'\\n\\n整體功能描述\\n\\n'"
      ]
     },
     "execution_count": 1,
     "metadata": {},
     "output_type": "execute_result"
    }
   ],
   "source": [
    "'''\n",
    "\n",
    "整體功能描述\n",
    "\n",
    "'''"
   ]
  },
  {
   "cell_type": "code",
   "execution_count": 2,
   "metadata": {},
   "outputs": [],
   "source": [
    "'''\n",
    "\n",
    "Application 主架構\n",
    "\n",
    "'''\n",
    "\n",
    "# 引用Web Server套件\n",
    "from flask import Flask, request, abort\n",
    "\n",
    "# 從linebot 套件包裡引用 LineBotApi 與 WebhookHandler 類別\n",
    "from linebot import (\n",
    "    LineBotApi, WebhookHandler\n",
    ")\n",
    "\n",
    "# 引用無效簽章錯誤\n",
    "from linebot.exceptions import (\n",
    "    InvalidSignatureError\n",
    ")\n",
    "# 將消息模型，文字收取消息與文字寄發消息 引入\n",
    "from linebot.models import (\n",
    "    MessageEvent, TextMessage, ImageMessage, TextSendMessage\n",
    ")\n",
    "\n",
    "# 載入json處理套件\n",
    "import json\n",
    "\n",
    "# 載入基礎設定檔\n",
    "secretFileContentJson=json.load(open(\"./line_secret_key\",'r'))\n",
    "server_url=secretFileContentJson.get(\"server_url\")\n",
    "\n",
    "# 設定Server啟用細節\n",
    "app = Flask(__name__,static_url_path = \"/素材\" , static_folder = \"./素材/\")\n",
    "app_1 = Flask(__name__,static_url_path = \"/images\" , static_folder = \"./images/\" )\n",
    "# 生成實體物件\n",
    "line_bot_api = LineBotApi(secretFileContentJson.get(\"channel_access_token\"))\n",
    "handler = WebhookHandler(secretFileContentJson.get(\"secret_key\"))\n",
    "\n",
    "# 啟動server對外接口，使Line能丟消息進來\n",
    "@app.route(\"/\", methods=['POST'])\n",
    "def callback():\n",
    "    # get X-Line-Signature header value\n",
    "    signature = request.headers['X-Line-Signature']\n",
    "\n",
    "    # get request body as text\n",
    "    body = request.get_data(as_text=True)\n",
    "    app.logger.info(\"Request body: \" + body)\n",
    "\n",
    "    # handle webhook body\n",
    "    try:\n",
    "        handler.handle(body, signature)\n",
    "    except InvalidSignatureError:\n",
    "        abort(400)\n",
    "\n",
    "    return 'OK'"
   ]
  },
  {
   "cell_type": "code",
   "execution_count": 3,
   "metadata": {},
   "outputs": [],
   "source": [
    "'''\n",
    "\n",
    "消息判斷器\n",
    "\n",
    "讀取指定的json檔案後，把json解析成不同格式的SendMessage\n",
    "\n",
    "讀取檔案，\n",
    "把內容轉換成json\n",
    "將json轉換成消息\n",
    "放回array中，並把array傳出。\n",
    "\n",
    "'''\n",
    "\n",
    "# 引用會用到的套件\n",
    "from linebot.models import (\n",
    "    ImagemapSendMessage,TextSendMessage,ImageSendMessage,LocationSendMessage,FlexSendMessage\n",
    ")\n",
    "\n",
    "from linebot.models.template import (\n",
    "    ButtonsTemplate,CarouselTemplate,ConfirmTemplate,ImageCarouselTemplate\n",
    "    \n",
    ")\n",
    "\n",
    "from linebot.models.template import *\n",
    "\n",
    "def detect_json_array_to_new_message_array(fileName):\n",
    "    \n",
    "    #開啟檔案，轉成json\n",
    "    with open(fileName) as f:\n",
    "        jsonArray = json.load(f)\n",
    "    \n",
    "    # 解析json\n",
    "    returnArray = []\n",
    "    for jsonObject in jsonArray:\n",
    "\n",
    "        # 讀取其用來判斷的元件\n",
    "        message_type = jsonObject.get('type')\n",
    "        \n",
    "        # 轉換\n",
    "        if message_type == 'text':\n",
    "            returnArray.append(TextSendMessage.new_from_json_dict(jsonObject))\n",
    "        elif message_type == 'imagemap':\n",
    "            returnArray.append(ImagemapSendMessage.new_from_json_dict(jsonObject))\n",
    "        elif message_type == 'template':\n",
    "            returnArray.append(TemplateSendMessage.new_from_json_dict(jsonObject))\n",
    "        elif message_type == 'image':\n",
    "            returnArray.append(ImageSendMessage.new_from_json_dict(jsonObject))\n",
    "        elif message_type == 'sticker':\n",
    "            returnArray.append(StickerSendMessage.new_from_json_dict(jsonObject))  \n",
    "        elif message_type == 'audio':\n",
    "            returnArray.append(AudioSendMessage.new_from_json_dict(jsonObject))  \n",
    "        elif message_type == 'location':\n",
    "            returnArray.append(LocationSendMessage.new_from_json_dict(jsonObject))\n",
    "        elif message_type == 'flex':\n",
    "            returnArray.append(FlexSendMessage.new_from_json_dict(jsonObject))    \n",
    "\n",
    "    # 回傳\n",
    "    return returnArray"
   ]
  },
  {
   "cell_type": "code",
   "execution_count": 4,
   "metadata": {},
   "outputs": [],
   "source": [
    "'''\n",
    "\n",
    "handler處理關注消息\n",
    "\n",
    "用戶關注時，讀取 素材 -> 關注 -> reply.json\n",
    "\n",
    "將其轉換成可寄發的消息，傳回給Line\n",
    "\n",
    "'''\n",
    "\n",
    "# 引用套件\n",
    "from linebot.models import (\n",
    "    FollowEvent\n",
    ")\n",
    "\n",
    "# 關注事件處理\n",
    "@handler.add(FollowEvent)\n",
    "def process_follow_event(event):\n",
    "    \n",
    "    # 讀取並轉換\n",
    "    result_message_array =[]\n",
    "    replyJsonPath = \"素材/問題一/reply.json\"\n",
    "    result_message_array = detect_json_array_to_new_message_array(replyJsonPath)\n",
    "    \n",
    "    # 呼叫個人用戶名，與用戶第一次接觸打招呼\n",
    "    user_profile = line_bot_api.get_profile(event.source.user_id)\n",
    "    hello = {\n",
    "      \"type\": \"text\",\n",
    "      \"text\": \"哈囉!\" + str(user_profile.display_name) + \"\\n歡迎您使用「履視步爽」\"\n",
    "    }\n",
    "    result_message_array.insert(0, TextSendMessage.new_from_json_dict(hello))\n",
    "    \n",
    "        \n",
    "    #綁定 rich_menu\n",
    "    linkRichMenuId = open(\"素材/rich_menu_4/rich_menu_id\", 'r').read()\n",
    "    line_bot_api.link_rich_menu_to_user(event.source.user_id,linkRichMenuId)\n",
    "\n",
    "\n",
    "    # 消息發送\n",
    "    line_bot_api.reply_message(\n",
    "        event.reply_token,\n",
    "        result_message_array\n",
    "    )\n",
    "    \n",
    "    #擷取tag訊息\n",
    "    dn = \"ID_message/user_event.txt\"\n",
    "    user_event = {}\n",
    "    with open(dn, \"a\") as myfile:\n",
    "        user_event[\"user_id\"] = vars(user_profile)[\"user_id\"]\n",
    "        user_event[\"tag\"] = \"user of first entering\"\n",
    "        user_event[\"time\"] = event.timestamp\n",
    "        user_event[\"product_ID\"] = \"now to choose\"\n",
    "        myfile.write(json.dumps(user_event,sort_keys=True))\n",
    "        myfile.write('\\r\\n')"
   ]
  },
  {
   "cell_type": "code",
   "execution_count": 5,
   "metadata": {},
   "outputs": [],
   "source": [
    "'''\n",
    "\n",
    "handler處理文字消息\n",
    "\n",
    "收到用戶回應的文字消息，\n",
    "按文字消息內容，往素材資料夾中，找尋以該內容命名的資料夾，讀取裡面的reply.json\n",
    "\n",
    "譯json後，將消息回傳給用戶\n",
    "\n",
    "無則不發送訊息\n",
    "\n",
    "'''\n",
    "\n",
    "# 引用套件\n",
    "from linebot.models import (\n",
    "    MessageEvent, TextMessage, PostbackEvent\n",
    ")\n",
    "from os import listdir\n",
    "# from urllib.parse import parse_qs\n",
    "\n",
    "# 文字消息處理\n",
    "@handler.add(MessageEvent,message=TextMessage)\n",
    "def process_text_message(event):\n",
    "    \n",
    "    # 指定要列出素材的目錄\n",
    "    mypath = \"素材/\"\n",
    "    # 取得所有檔案與子目錄名稱\n",
    "    list_text = listdir(mypath)\n",
    "    # 讀取本地檔案，並轉譯成消息\n",
    "    result_message_array =[]\n",
    "    user_profile = line_bot_api.get_profile(event.source.user_id)\n",
    "\n",
    "\n",
    "    if event.message.text in list_text:\n",
    "        \n",
    "        replyJsonPath = \"素材/\"+event.message.text+\"/reply.json\"\n",
    "        result_message_array = detect_json_array_to_new_message_array(replyJsonPath)\n",
    "\n",
    "        # 發送\n",
    "        line_bot_api.reply_message(\n",
    "            event.reply_token,\n",
    "            result_message_array\n",
    "        )\n",
    "        #擷取tag訊息\n",
    "        dn = \"ID_message/user_event.txt\"\n",
    "        user_event = {}\n",
    "        with open(dn, \"a\") as myfile:\n",
    "            user_event[\"user_id\"] = vars(user_profile)[\"user_id\"]\n",
    "            user_event[\"tag\"] = event.message.text\n",
    "            user_event[\"time\"] = event.timestamp\n",
    "            user_event[\"product_ID\"] = \"now to choose\"\n",
    "            myfile.write(json.dumps(user_event,sort_keys=True))\n",
    "            myfile.write('\\r\\n')\n",
    "    \n",
    "    else:\n",
    "        pass\n",
    "        #擷取tag訊息\n",
    "        dn = \"ID_message/user_event.txt\"\n",
    "        user_event = {}\n",
    "        with open(dn, \"a\") as myfile:\n",
    "            user_event[\"user_id\"] = vars(user_profile)[\"user_id\"]\n",
    "            user_event[\"tag\"] = \"no send out message\"\n",
    "            user_event[\"time\"] = event.timestamp\n",
    "            user_event[\"product_ID\"] = \"now to choose\"\n",
    "            myfile.write(json.dumps(user_event,sort_keys=True))\n",
    "            myfile.write('\\r\\n')\n",
    "\n"
   ]
  },
  {
   "cell_type": "code",
   "execution_count": 6,
   "metadata": {},
   "outputs": [],
   "source": [
    "'''\n",
    "\n",
    "handler處理Postback Event\n",
    "\n",
    "載入功能選單與啟動特殊功能\n",
    "\n",
    "解析postback的data，並按照data欄位判斷處理\n",
    "\n",
    "現有三個欄位\n",
    "menu, folder, tag\n",
    "\n",
    "若folder欄位有值，則\n",
    "    讀取其reply.json，轉譯成消息，並發送\n",
    "    擷取tag訊息\n",
    "\n",
    "若menu欄位有值，則\n",
    "    讀取其rich_menu_id，並取得用戶id，將用戶與選單綁定\n",
    "    讀取其reply.json，轉譯成消息，並發送\n",
    "    擷取tag訊息\n",
    "\n",
    "'''\n",
    "from linebot.models import (\n",
    "    PostbackEvent\n",
    ")\n",
    "\n",
    "from urllib.parse import parse_qs \n",
    "import time\n",
    "\n",
    "@handler.add(PostbackEvent)\n",
    "def process_postback_event(event):\n",
    "    \n",
    "\n",
    "    user_profile = line_bot_api.get_profile(event.source.user_id)\n",
    "    \n",
    "    query_string_dict = parse_qs(event.postback.data)\n",
    "    \n",
    "    print(query_string_dict)\n",
    "    if 'folder' in query_string_dict:\n",
    "    \n",
    "        #讀取其reply.json，轉譯成消息\n",
    "        result_message_array =[]\n",
    "\n",
    "        replyJsonPath = '素材/'+query_string_dict.get('folder')[0]+\"/reply.json\"\n",
    "        result_message_array = detect_json_array_to_new_message_array(replyJsonPath)\n",
    "         \n",
    "        top_line = {\n",
    "          \"type\": \"text\",\n",
    "          \"text\": \"已記下，放在心上，開始推送\"\n",
    "        }\n",
    "        result_message_array.insert(0, TextSendMessage.new_from_json_dict(top_line))\n",
    "  \n",
    "        ##發送訊息\n",
    "        line_bot_api.reply_message(\n",
    "            event.reply_token,\n",
    "            result_message_array\n",
    "            \n",
    "        )\n",
    "        \n",
    "        #擷取tag訊息\n",
    "        dn = \"ID_message/user_event.txt\"\n",
    "        user_event = {}\n",
    "        with open(dn, \"a\") as myfile:\n",
    "            user_event[\"user_id\"] = vars(user_profile)[\"user_id\"]\n",
    "            user_event[\"tag\"] = query_string_dict.get('tag')[0]\n",
    "            user_event[\"time\"] = event.timestamp\n",
    "            user_event[\"product_ID\"] = \"now to choose\"\n",
    "            myfile.write(json.dumps(user_event,sort_keys=True))\n",
    "            myfile.write('\\r\\n')\n",
    "            \n",
    "    elif 'menu' in query_string_dict:\n",
    "    \n",
    "        #讀取其rich_menu_id，並取得用戶id，將用戶與選單綁定\n",
    "        linkRichMenuId = open(\"素材/\"+query_string_dict.get('menu')[0]+'/rich_menu_id', 'r').read()\n",
    "        line_bot_api.link_rich_menu_to_user(event.source.user_id,linkRichMenuId)\n",
    "        \n",
    "        #讀取其reply.json，轉譯成消息\n",
    "        replyJsonPath = '素材/'+query_string_dict.get('menu')[0]+\"/reply.json\"\n",
    "        result_message_array = detect_json_array_to_new_message_array(replyJsonPath)\n",
    "         \n",
    "        top_line = {\n",
    "          \"type\": \"text\",\n",
    "          \"text\": \"已記下，放在心上，開始推送\"\n",
    "        }\n",
    "        result_message_array.insert(0, TextSendMessage.new_from_json_dict(top_line))\n",
    "  \n",
    "        #發送訊息\n",
    "        line_bot_api.reply_message(\n",
    "            event.reply_token,\n",
    "            result_message_array\n",
    "        ) \n",
    "        \n",
    "        #擷取tag訊息\n",
    "        dn = \"ID_message/user_event.txt\"\n",
    "        user_event = {}\n",
    "        with open(dn, \"a\") as myfile:\n",
    "            user_event[\"user_id\"] = vars(user_profile)[\"user_id\"]\n",
    "            user_event[\"tag\"] = query_string_dict.get('tag')[0]\n",
    "            user_event[\"time\"] = event.timestamp\n",
    "            user_event[\"product_ID\"] = \"now to choose\"\n",
    "            myfile.write(json.dumps(user_event,sort_keys=True))\n",
    "            myfile.write('\\r\\n')"
   ]
  },
  {
   "cell_type": "code",
   "execution_count": 7,
   "metadata": {
    "scrolled": true
   },
   "outputs": [],
   "source": [
    "'''\n",
    "\n",
    "若收到圖片消息時，\n",
    "\n",
    "先回覆用戶文字消息，並從Line上將照片拿回。\n",
    "擷取照片的主顏色\n",
    "\n",
    "'''\n",
    "#!pip install clarifai\n",
    "from clarifai.rest import Image as ClImage\n",
    "from clarifai.rest import ClarifaiApp\n",
    "import os\n",
    "\n",
    "@handler.add(MessageEvent, message=ImageMessage)\n",
    "def handle_message(event):\n",
    "        \n",
    "    message_content = line_bot_api.get_message_content(event.message.id)\n",
    "    user_profile = line_bot_api.get_profile(event.source.user_id)\n",
    "    \n",
    "    #擷取照片的主顏色\n",
    "    with open('./images/'+event.message.id+'.jpg', 'wb') as fd:\n",
    "        for chunk in message_content.iter_content():\n",
    "            fd.write(chunk)\n",
    "    #路徑為相對路徑\n",
    "    Image_shoes = './images/'+event.message.id+'.jpg'\n",
    "    # ======================= 官方固定格式 ===============================\n",
    "    app = ClarifaiApp(api_key='0f82436fcad44c1cb8953ee52d563ef1')\n",
    "    # model = app.public_models.general_model\n",
    "    model = app.models.get('color')\n",
    "    # picnames = pic_list('D:\\clarifai\\pictures')\n",
    "    image = ClImage(filename=Image_shoes)\n",
    "    color_list = model.predict([image])[\"outputs\"][0][\"data\"][\"colors\"]\n",
    "    # ===================================================================\n",
    "    print(color_list)\n",
    "    color_datas = {}\n",
    "    for color in color_list:\n",
    "        color_id = color[\"raw_hex\"]\n",
    "        color_pa = color[\"value\"]\n",
    "        color_name = color[\"w3c\"][\"name\"]\n",
    "        print(\"color_data= \",  color_name, color_id + \"\\t\", str(color_pa * 100)[:5] + \"%\")\n",
    "        color_datas[color_pa]='main color = '+str(color_name) + \" \"+ str(color_id) + \" \" + str(color_pa * 100)[:5] + \"%\"\n",
    "    print(color_datas)\n",
    "    print(color_datas.keys())\n",
    "    max_data = max(color_datas.keys())\n",
    "    color_data = color_datas[max_data]\n",
    "    print(color_data)\n",
    "\n",
    "    #同時存在一個，上限五則訊息\n",
    "    line_bot_api.reply_message(\n",
    "        event.reply_token,\n",
    "        TextSendMessage(text='Image has Upload'+ ' ' + event.message.id+\"\\n\"+color_data))\n",
    "    #擷取tag訊息\n",
    "    dn = \"ID_message/user_event.txt\"\n",
    "    user_event = {}\n",
    "    with open(dn, \"a\") as myfile:\n",
    "        user_event[\"user_id\"] = vars(user_profile)[\"user_id\"]\n",
    "        user_event[\"tag\"] = \"Image has Upload\"+ \" \" + event.message.id+\"\\n\"+color_data\n",
    "        user_event[\"time\"] = event.timestamp\n",
    "        user_event[\"product_ID\"] = \"now to choose\"\n",
    "        myfile.write(json.dumps(user_event,sort_keys=True))\n",
    "        myfile.write('\\r\\n')"
   ]
  },
  {
   "cell_type": "code",
   "execution_count": 8,
   "metadata": {
    "scrolled": true
   },
   "outputs": [
    {
     "name": "stderr",
     "output_type": "stream",
     "text": [
      " * Running on http://0.0.0.0:5000/ (Press CTRL+C to quit)\n",
      "172.18.0.2 - - [20/Oct/2019 09:06:56] \"POST / HTTP/1.1\" 200 -\n",
      "172.18.0.2 - - [20/Oct/2019 09:06:58] \"POST / HTTP/1.1\" 200 -\n"
     ]
    },
    {
     "name": "stdout",
     "output_type": "stream",
     "text": [
      "{'folder': ['問題二'], 'tag': ['man']}\n"
     ]
    },
    {
     "name": "stderr",
     "output_type": "stream",
     "text": [
      "172.18.0.2 - - [20/Oct/2019 09:07:02] \"POST / HTTP/1.1\" 200 -\n",
      "172.18.0.2 - - [20/Oct/2019 09:07:03] \"POST / HTTP/1.1\" 200 -\n"
     ]
    },
    {
     "name": "stdout",
     "output_type": "stream",
     "text": [
      "{'folder': ['問題三'], 'tag': ['3000']}\n"
     ]
    },
    {
     "name": "stderr",
     "output_type": "stream",
     "text": [
      "172.18.0.2 - - [20/Oct/2019 09:07:05] \"POST / HTTP/1.1\" 200 -\n",
      "172.18.0.2 - - [20/Oct/2019 09:07:06] \"POST / HTTP/1.1\" 200 -\n"
     ]
    },
    {
     "name": "stdout",
     "output_type": "stream",
     "text": [
      "{'folder': ['問題四'], 'tag': ['run']}\n"
     ]
    },
    {
     "name": "stderr",
     "output_type": "stream",
     "text": [
      "172.18.0.2 - - [20/Oct/2019 09:07:09] \"POST / HTTP/1.1\" 200 -\n",
      "172.18.0.2 - - [20/Oct/2019 09:07:10] \"POST / HTTP/1.1\" 200 -\n"
     ]
    },
    {
     "name": "stdout",
     "output_type": "stream",
     "text": [
      "{'folder': ['問題五'], 'tag': ['blackwhite']}\n"
     ]
    },
    {
     "name": "stderr",
     "output_type": "stream",
     "text": [
      "172.18.0.2 - - [20/Oct/2019 09:07:13] \"POST / HTTP/1.1\" 200 -\n",
      "172.18.0.2 - - [20/Oct/2019 09:07:14] \"POST / HTTP/1.1\" 200 -\n"
     ]
    },
    {
     "name": "stdout",
     "output_type": "stream",
     "text": [
      "{'folder': ['問題六'], 'tag': ['populartype']}\n"
     ]
    },
    {
     "name": "stderr",
     "output_type": "stream",
     "text": [
      "172.18.0.2 - - [20/Oct/2019 09:07:17] \"POST / HTTP/1.1\" 200 -\n",
      "172.18.0.2 - - [20/Oct/2019 09:07:18] \"POST / HTTP/1.1\" 200 -\n",
      "172.18.0.2 - - [20/Oct/2019 09:07:20] \"POST / HTTP/1.1\" 200 -\n"
     ]
    },
    {
     "name": "stdout",
     "output_type": "stream",
     "text": [
      "{'folder': ['rich_menu_4'], 'tag': ['america']}\n"
     ]
    },
    {
     "name": "stderr",
     "output_type": "stream",
     "text": [
      "172.18.0.2 - - [20/Oct/2019 09:07:22] \"POST / HTTP/1.1\" 200 -\n"
     ]
    },
    {
     "name": "stdout",
     "output_type": "stream",
     "text": [
      "{'folder': ['流行趨勢'], 'tag': ['trend']}\n"
     ]
    },
    {
     "name": "stderr",
     "output_type": "stream",
     "text": [
      "172.18.0.2 - - [20/Oct/2019 09:07:27] \"POST / HTTP/1.1\" 200 -\n",
      "172.18.0.2 - - [20/Oct/2019 09:07:28] \"POST / HTTP/1.1\" 200 -\n"
     ]
    },
    {
     "name": "stdout",
     "output_type": "stream",
     "text": [
      "{'folder': ['顏色找鞋'], 'tag': ['Colortofindshoes']}\n"
     ]
    },
    {
     "name": "stderr",
     "output_type": "stream",
     "text": [
      "172.18.0.2 - - [20/Oct/2019 09:07:32] \"POST / HTTP/1.1\" 200 -\n",
      "172.18.0.2 - - [20/Oct/2019 09:07:33] \"POST / HTTP/1.1\" 200 -\n",
      "172.18.0.2 - - [20/Oct/2019 09:07:35] \"POST / HTTP/1.1\" 200 -\n"
     ]
    },
    {
     "name": "stdout",
     "output_type": "stream",
     "text": [
      "{'folder': ['穿搭建議'], 'tag': ['Wearadvice']}\n"
     ]
    },
    {
     "name": "stderr",
     "output_type": "stream",
     "text": [
      "172.18.0.2 - - [20/Oct/2019 09:07:37] \"POST / HTTP/1.1\" 200 -\n",
      "172.18.0.2 - - [20/Oct/2019 09:07:40] \"POST / HTTP/1.1\" 200 -\n"
     ]
    },
    {
     "name": "stdout",
     "output_type": "stream",
     "text": [
      "{'folder': ['功能找鞋'], 'tag': ['Functiontofindshoes']}\n"
     ]
    },
    {
     "name": "stderr",
     "output_type": "stream",
     "text": [
      "172.18.0.2 - - [20/Oct/2019 09:07:42] \"POST / HTTP/1.1\" 200 -\n",
      "172.18.0.2 - - [20/Oct/2019 09:07:45] \"POST / HTTP/1.1\" 200 -\n"
     ]
    },
    {
     "name": "stdout",
     "output_type": "stream",
     "text": [
      "{'folder': ['圖片找鞋'], 'tag': ['Picturetofindshoes']}\n"
     ]
    },
    {
     "name": "stderr",
     "output_type": "stream",
     "text": [
      "172.18.0.2 - - [20/Oct/2019 09:07:46] \"POST / HTTP/1.1\" 200 -\n",
      "172.18.0.2 - - [20/Oct/2019 09:07:49] \"POST / HTTP/1.1\" 200 -\n"
     ]
    },
    {
     "name": "stdout",
     "output_type": "stream",
     "text": [
      "{'folder': ['商品推薦'], 'tag': ['Productsrecommend']}\n"
     ]
    },
    {
     "name": "stderr",
     "output_type": "stream",
     "text": [
      "172.18.0.2 - - [20/Oct/2019 09:07:51] \"POST / HTTP/1.1\" 200 -\n",
      "172.18.0.2 - - [20/Oct/2019 09:08:21] \"POST / HTTP/1.1\" 200 -\n"
     ]
    },
    {
     "name": "stdout",
     "output_type": "stream",
     "text": [
      "{'tag': ['maincolor|Secondarycolor|adidas Alphabounce  Shoes - White | adidas US']}\n"
     ]
    },
    {
     "name": "stderr",
     "output_type": "stream",
     "text": [
      "172.18.0.2 - - [20/Oct/2019 09:08:23] \"POST / HTTP/1.1\" 200 -\n"
     ]
    },
    {
     "name": "stdout",
     "output_type": "stream",
     "text": [
      "{'folder': ['流行趨勢'], 'tag': ['trend']}\n"
     ]
    },
    {
     "name": "stderr",
     "output_type": "stream",
     "text": [
      "172.18.0.2 - - [20/Oct/2019 09:12:26] \"POST / HTTP/1.1\" 200 -\n",
      "172.18.0.2 - - [20/Oct/2019 09:12:28] \"POST / HTTP/1.1\" 200 -\n"
     ]
    },
    {
     "name": "stdout",
     "output_type": "stream",
     "text": [
      "{'folder': ['功能找鞋'], 'tag': ['Functiontofindshoes']}\n"
     ]
    },
    {
     "name": "stderr",
     "output_type": "stream",
     "text": [
      "172.18.0.2 - - [20/Oct/2019 09:12:29] \"POST / HTTP/1.1\" 200 -\n",
      "172.18.0.2 - - [20/Oct/2019 09:12:30] \"POST / HTTP/1.1\" 200 -\n"
     ]
    },
    {
     "name": "stdout",
     "output_type": "stream",
     "text": [
      "{'folder': ['圖片找鞋'], 'tag': ['Picturetofindshoes']}\n"
     ]
    },
    {
     "name": "stderr",
     "output_type": "stream",
     "text": [
      "172.18.0.2 - - [20/Oct/2019 09:12:33] \"POST / HTTP/1.1\" 200 -\n"
     ]
    },
    {
     "name": "stdout",
     "output_type": "stream",
     "text": [
      "{'folder': ['商品推薦'], 'tag': ['Productsrecommend']}\n"
     ]
    },
    {
     "name": "stderr",
     "output_type": "stream",
     "text": [
      "172.18.0.2 - - [20/Oct/2019 09:12:35] \"POST / HTTP/1.1\" 200 -\n"
     ]
    },
    {
     "name": "stdout",
     "output_type": "stream",
     "text": [
      "{'folder': ['穿搭建議'], 'tag': ['Wearadvice']}\n"
     ]
    },
    {
     "name": "stderr",
     "output_type": "stream",
     "text": [
      "172.18.0.2 - - [20/Oct/2019 09:12:37] \"POST / HTTP/1.1\" 200 -\n",
      "172.18.0.2 - - [20/Oct/2019 09:12:39] \"POST / HTTP/1.1\" 200 -\n"
     ]
    },
    {
     "name": "stdout",
     "output_type": "stream",
     "text": [
      "{'folder': ['顏色找鞋'], 'tag': ['Colortofindshoes']}\n"
     ]
    },
    {
     "name": "stderr",
     "output_type": "stream",
     "text": [
      "172.18.0.2 - - [20/Oct/2019 09:12:41] \"POST / HTTP/1.1\" 200 -\n",
      "172.18.0.2 - - [20/Oct/2019 09:12:42] \"POST / HTTP/1.1\" 200 -\n"
     ]
    },
    {
     "name": "stdout",
     "output_type": "stream",
     "text": [
      "{'folder': ['問題二'], 'tag': ['man']}\n"
     ]
    },
    {
     "name": "stderr",
     "output_type": "stream",
     "text": [
      "172.18.0.2 - - [20/Oct/2019 09:12:57] \"POST / HTTP/1.1\" 200 -\n",
      "172.18.0.2 - - [20/Oct/2019 09:12:57] \"POST / HTTP/1.1\" 200 -\n"
     ]
    },
    {
     "name": "stdout",
     "output_type": "stream",
     "text": [
      "{'folder': ['問題三'], 'tag': ['3000']}\n"
     ]
    },
    {
     "name": "stderr",
     "output_type": "stream",
     "text": [
      "172.18.0.2 - - [20/Oct/2019 09:13:00] \"POST / HTTP/1.1\" 200 -\n",
      "172.18.0.2 - - [20/Oct/2019 09:13:02] \"POST / HTTP/1.1\" 200 -\n"
     ]
    },
    {
     "name": "stdout",
     "output_type": "stream",
     "text": [
      "{'folder': ['問題四'], 'tag': ['run']}\n"
     ]
    },
    {
     "name": "stderr",
     "output_type": "stream",
     "text": [
      "172.18.0.2 - - [20/Oct/2019 09:13:04] \"POST / HTTP/1.1\" 200 -\n",
      "172.18.0.2 - - [20/Oct/2019 09:13:05] \"POST / HTTP/1.1\" 200 -\n"
     ]
    },
    {
     "name": "stdout",
     "output_type": "stream",
     "text": [
      "{'folder': ['問題五'], 'tag': ['blackwhite']}\n"
     ]
    },
    {
     "name": "stderr",
     "output_type": "stream",
     "text": [
      "172.18.0.2 - - [20/Oct/2019 09:13:08] \"POST / HTTP/1.1\" 200 -\n",
      "172.18.0.2 - - [20/Oct/2019 09:13:09] \"POST / HTTP/1.1\" 200 -\n"
     ]
    },
    {
     "name": "stdout",
     "output_type": "stream",
     "text": [
      "{'folder': ['問題六'], 'tag': ['populartype']}\n"
     ]
    },
    {
     "name": "stderr",
     "output_type": "stream",
     "text": [
      "172.18.0.2 - - [20/Oct/2019 09:13:11] \"POST / HTTP/1.1\" 200 -\n",
      "172.18.0.2 - - [20/Oct/2019 09:13:12] \"POST / HTTP/1.1\" 200 -\n",
      "172.18.0.2 - - [20/Oct/2019 09:13:14] \"POST / HTTP/1.1\" 200 -\n"
     ]
    },
    {
     "name": "stdout",
     "output_type": "stream",
     "text": [
      "{'folder': ['rich_menu_4'], 'tag': ['america']}\n"
     ]
    },
    {
     "name": "stderr",
     "output_type": "stream",
     "text": [
      "172.18.0.2 - - [20/Oct/2019 09:13:16] \"POST / HTTP/1.1\" 200 -\n"
     ]
    },
    {
     "name": "stdout",
     "output_type": "stream",
     "text": [
      "{'folder': ['流行趨勢'], 'tag': ['trend']}\n"
     ]
    },
    {
     "name": "stderr",
     "output_type": "stream",
     "text": [
      "172.18.0.2 - - [20/Oct/2019 09:13:24] \"POST / HTTP/1.1\" 200 -\n",
      "172.18.0.2 - - [20/Oct/2019 09:13:25] \"POST / HTTP/1.1\" 200 -\n"
     ]
    },
    {
     "name": "stdout",
     "output_type": "stream",
     "text": [
      "{'folder': ['顏色找鞋'], 'tag': ['Colortofindshoes']}\n"
     ]
    },
    {
     "name": "stderr",
     "output_type": "stream",
     "text": [
      "172.18.0.2 - - [20/Oct/2019 09:13:29] \"POST / HTTP/1.1\" 200 -\n",
      "172.18.0.2 - - [20/Oct/2019 09:13:29] \"POST / HTTP/1.1\" 200 -\n"
     ]
    },
    {
     "name": "stdout",
     "output_type": "stream",
     "text": [
      "{'folder': ['穿搭建議'], 'tag': ['Wearadvice']}\n"
     ]
    },
    {
     "name": "stderr",
     "output_type": "stream",
     "text": [
      "172.18.0.2 - - [20/Oct/2019 09:13:35] \"POST / HTTP/1.1\" 200 -\n",
      "172.18.0.2 - - [20/Oct/2019 09:13:36] \"POST / HTTP/1.1\" 200 -\n",
      "172.18.0.2 - - [20/Oct/2019 09:13:41] \"POST / HTTP/1.1\" 200 -\n"
     ]
    },
    {
     "name": "stdout",
     "output_type": "stream",
     "text": [
      "{'folder': ['功能找鞋'], 'tag': ['Functiontofindshoes']}\n"
     ]
    },
    {
     "name": "stderr",
     "output_type": "stream",
     "text": [
      "172.18.0.2 - - [20/Oct/2019 09:13:42] \"POST / HTTP/1.1\" 200 -\n"
     ]
    },
    {
     "name": "stdout",
     "output_type": "stream",
     "text": [
      "{'folder': ['圖片找鞋'], 'tag': ['Picturetofindshoes']}\n"
     ]
    },
    {
     "name": "stderr",
     "output_type": "stream",
     "text": [
      "172.18.0.2 - - [20/Oct/2019 09:13:47] \"POST / HTTP/1.1\" 200 -\n",
      "172.18.0.2 - - [20/Oct/2019 09:13:48] \"POST / HTTP/1.1\" 200 -\n"
     ]
    },
    {
     "name": "stdout",
     "output_type": "stream",
     "text": [
      "{'folder': ['商品推薦'], 'tag': ['Productsrecommend']}\n"
     ]
    },
    {
     "name": "stderr",
     "output_type": "stream",
     "text": [
      "172.18.0.2 - - [20/Oct/2019 09:13:51] \"POST / HTTP/1.1\" 200 -\n",
      "172.18.0.2 - - [20/Oct/2019 09:13:52] \"POST / HTTP/1.1\" 200 -\n"
     ]
    },
    {
     "name": "stdout",
     "output_type": "stream",
     "text": [
      "{'folder': ['流行趨勢'], 'tag': ['trend']}\n"
     ]
    },
    {
     "name": "stderr",
     "output_type": "stream",
     "text": [
      "172.18.0.2 - - [20/Oct/2019 09:51:46] \"POST / HTTP/1.1\" 200 -\n"
     ]
    },
    {
     "name": "stdout",
     "output_type": "stream",
     "text": [
      "{'folder': ['流行趨勢'], 'tag': ['trend']}\n"
     ]
    },
    {
     "name": "stderr",
     "output_type": "stream",
     "text": [
      "172.18.0.2 - - [20/Oct/2019 09:51:48] \"POST / HTTP/1.1\" 200 -\n"
     ]
    }
   ],
   "source": [
    "'''\n",
    "\n",
    "Application 運行（開發版）\n",
    "\n",
    "'''\n",
    "if __name__ == \"__main__\":\n",
    "    app.run(host='0.0.0.0')"
   ]
  },
  {
   "cell_type": "code",
   "execution_count": 9,
   "metadata": {},
   "outputs": [
    {
     "data": {
      "text/plain": [
       "'\\n\\nApplication 運行（heroku版）\\n\\n'"
      ]
     },
     "execution_count": 9,
     "metadata": {},
     "output_type": "execute_result"
    }
   ],
   "source": [
    "'''\n",
    "\n",
    "Application 運行（heroku版）\n",
    "\n",
    "'''\n",
    "\n",
    "# import os\n",
    "# if __name__ == \"__main__\":\n",
    "#     app.run(host='0.0.0.0',port=os.environ['PORT'])"
   ]
  },
  {
   "cell_type": "markdown",
   "metadata": {},
   "source": [
    "## TEST"
   ]
  },
  {
   "cell_type": "markdown",
   "metadata": {},
   "source": [
    "### 擷取tag值"
   ]
  },
  {
   "cell_type": "code",
   "execution_count": 10,
   "metadata": {
    "scrolled": true
   },
   "outputs": [],
   "source": [
    "# h={\"data\": \"folder=問題二&tag=woman\"}\n",
    "# dn = \"ID_message/\"+ \"harry hung.json\"\n",
    "# with open(dn, 'r') as f:\n",
    "#     print(f)\n",
    "#     data = json.load(f)\n",
    "#     print(data)\n",
    "#     print(data[\"folder\"])\n",
    "#     print(h)\n",
    "#     data[\"folder\"].append(h[\"data\"])\n",
    "#     print(data)\n",
    "#     data_1 =data\n",
    "# with open(dn, 'w') as f:\n",
    "#     json.dump(data_1, f)\n",
    "#     print(data_1)"
   ]
  },
  {
   "cell_type": "markdown",
   "metadata": {},
   "source": [
    "### 從tag取值並輸出輪播"
   ]
  },
  {
   "cell_type": "code",
   "execution_count": 11,
   "metadata": {},
   "outputs": [],
   "source": [
    "#pip install random"
   ]
  },
  {
   "cell_type": "markdown",
   "metadata": {},
   "source": [
    "###  資料格式為json"
   ]
  },
  {
   "cell_type": "code",
   "execution_count": 12,
   "metadata": {
    "scrolled": true
   },
   "outputs": [],
   "source": [
    "# import pandas as pd\n",
    "# import random\n",
    "# #準備空的list\n",
    "# list_shoes = []\n",
    "# #到mysql取值\n",
    "# EE6461 = {\n",
    "#     \"商品網址\":\"https://www.adidas.com/us/ozweego-shoes/EE6461.html\",\n",
    "#     \"商品照片\":\"https://assets.adidas.com/images/w_600,f_auto,q_auto/85c5a8551bc64690a5aaaa9300cbe16e_9366/OZW\",\n",
    "#     \"商品標題\":\"adidas OZWEEGO Shoes - Green | adidas US\",\n",
    "#     \"品牌\":\"adidas\",\n",
    "#     \"分類\":\"Lifestyle\"\n",
    "# }\n",
    "# G54001 = {\n",
    "#     \"商品網址\":\"https://www.adidas.com/us/ultraboost-shoes/G54001.html\",\n",
    "#     \"商品照片\":\"https://assets.adidas.com/images/w_600,f_auto,q_auto/98a870193e9341b0af19aa76011ef0b8_9366/Ultra\",\n",
    "#     \"商品標題\":\"adidas Ultraboost Shoes - Black | adidas US\",\n",
    "#     \"品牌\":\"adidas\",\n",
    "#     \"分類\":\"Running\"\n",
    "# }\n",
    "# EF2508 = {\n",
    "#     \"商品網址\":\"https://www.adidas.com/us/americana-low-shoes/EF2508.html\",\n",
    "#     \"商品照片\":\"https://assets.adidas.com/images/w_600,f_auto,q_auto/087d3c85ea0b47309305a9f201416485_9366/Ame\",\n",
    "#     \"商品標題\":\"adidas Americana Low Shoes - White | adidas US\",\n",
    "#     \"品牌\":\"adidas\",\n",
    "#     \"分類\":\"Lifestyle\"\n",
    "# }\n",
    "\n",
    "# list_shoes.append(EE6461)\n",
    "# list_shoes.append(G54001)\n",
    "# list_shoes.append(EF2508)\n",
    "# print(list_shoes)\n",
    "# random.shuffle(list_shoes)\n",
    "# print(list_shoes)\n",
    "# #準備空的list\n",
    "# list_col_color = []\n",
    "# #把值輸入col_1\n",
    "# number = len(list_shoes)\n",
    "# for i in range(0, number):\n",
    "#     #輸入值\n",
    "#     web_pic = list_shoes[i]['商品照片']\n",
    "#     main_color = list_shoes[i]['品牌']\n",
    "#     second_color = list_shoes[i]['分類']\n",
    "#     web_shoes = list_shoes[i]['商品網址']\n",
    "#     name_shoes = list_shoes[i]['商品標題']\n",
    "\n",
    "#     #循環加到 list_col_color\n",
    "#     col_1 = {\n",
    "#             \"thumbnailImageUrl\": web_pic,\n",
    "#             \"title\": \"所顏是否?\",\n",
    "#             \"text\": main_color,\n",
    "#             \"actions\": [\n",
    "#               {\n",
    "#                 \"type\": \"postback\",\n",
    "#                 \"label\": second_color,\n",
    "#                 \"text\": web_shoes,\n",
    "#                 \"data\": \"tag=maincolor|Secondarycolor|\"+name_shoes\n",
    "#               }\n",
    "#             ]\n",
    "#           }\n",
    "#     list_col_color.append(col_1)\n",
    "# print(list_col_color)\n",
    "\n",
    "# #輸出到linebot輪播\n",
    "# dc = '素材/商品推薦/reply.json'\n",
    "# data =[\n",
    "#     {\n",
    "#     \"type\": \"template\",\n",
    "#     \"altText\": \"this is a carousel template\",\n",
    "#     \"template\":\n",
    "#     {\n",
    "#         \"type\": \"carousel\",\n",
    "#         \"actions\": [],\n",
    "#         \"columns\": list_col_color\n",
    "#     }\n",
    "#     }\n",
    "# ]\n",
    "\n",
    "# with open(dc, \"w\") as f:\n",
    "#     json.dump(data, f)"
   ]
  },
  {
   "cell_type": "markdown",
   "metadata": {},
   "source": [
    "###  資料格式為csv"
   ]
  },
  {
   "cell_type": "code",
   "execution_count": 13,
   "metadata": {},
   "outputs": [
    {
     "name": "stdout",
     "output_type": "stream",
     "text": [
      "Requirement already satisfied: numpy in /opt/conda/lib/python3.7/site-packages (1.17.2)\n",
      "Note: you may need to restart the kernel to use updated packages.\n"
     ]
    }
   ],
   "source": [
    "pip install numpy"
   ]
  },
  {
   "cell_type": "code",
   "execution_count": 14,
   "metadata": {
    "scrolled": true
   },
   "outputs": [
    {
     "name": "stdout",
     "output_type": "stream",
     "text": [
      "[['EE5614', 'https://www.adidas.com/us/nizza-shoes/EE5614.html', 'https://assets.adidas.com/images/w_600,f_auto,q_auto/236886ebcbb54ca2b82faa78010ed975_9366/Nizza_Shoes_Purple_EE5614_01_standard.jpg', 'adidas', 'adidas Nizza Shoes - Purple | adidas US'], ['EE5910', 'https://www.adidas.com/us/nite-jogger-shoes/EE5910.html', 'https://assets.adidas.com/images/w_600,f_auto,q_auto/16b833a77fa74124babcaa9300cb8b7f_9366/Nite_Jogger_Shoes_White_EE5910_01_standard.jpg', 'adidas', 'adidas Nite Jogger Shoes - White | adidas US'], ['EE5900', 'https://www.adidas.com/us/lxcon-shoes/EE5900.html', 'https://assets.adidas.com/images/w_600,f_auto,q_auto/45487b3186c04d0cb882aa3f00904b2d_9366/LXCON_Shoes_Black_EE5900_01_standard.jpg', 'adidas', 'adidas LXCON Shoes - Black | adidas US'], ['BC0639', 'https://www.adidas.com/us/five-ten-freerider-pro-mountain-bike-shoes/BC0639.html', 'https://assets.adidas.com/images/w_600,f_auto,q_auto/9ce0bff5214d42d586bda9af0026f90f_9366/Five_Ten_Freerider_Pro_Mountain_Bike_Shoes_Green_BC0639_01_standard.jpg', 'adidas', 'adidas Five Ten Freerider Pro Mountain Bike Shoes - Green | adidas US'], ['F35515', 'https://www.adidas.com/us/copa-19-plus-firm-ground-cleats/F35515.html', 'https://assets.adidas.com/images/w_600,f_auto,q_auto/9f6abeb27e5743c0b64eaa5700af279d_9366/Copa_19+_Firm_Ground_Cleats_Yellow_F35515_01_standard.jpg', 'adidas', 'adidas Copa 19+ Firm Ground Cleats - Yellow | adidas US'], ['F33621', 'https://www.adidas.com/us/tour360-eqt-boa-shoes/F33621.html', 'https://assets.adidas.com/images/w_600,f_auto,q_auto/ae8ba48da3484c859a58a86a00def40a_9366/Tour360_EQT_Boa_Shoes_Black_F33621_01_standard.jpg', 'adidas', 'adidas Tour360 EQT Boa Shoes - Black | adidas US']]\n",
      "6\n"
     ]
    }
   ],
   "source": [
    "import numpy as np\n",
    "import pandas as pd\n",
    "df = pd.read_csv('database/adidas.csv', encoding=\"utf-8\")\n",
    "list_shoes_pic = df[[\"商品型號\",\"商品網址\",\"商品照片\",\"品牌\",\"商品標題\"]]#EE6461\n",
    "list_shoes_pic.sample(6)\n",
    "list_shoes = list_shoes_pic.sample(6)\n",
    "shoes_data = np.array(list_shoes)#np.ndarray()\n",
    "list_shoes=shoes_data.tolist()#list\n",
    "print(list_shoes)\n",
    "number = len(list_shoes)\n",
    "print(number)"
   ]
  },
  {
   "cell_type": "code",
   "execution_count": 15,
   "metadata": {},
   "outputs": [
    {
     "name": "stdout",
     "output_type": "stream",
     "text": [
      "[['F34124', 'https://www.adidas.com/us/nite-jogger-shoes/F34124.html', 'https://assets.adidas.com/images/w_600,f_auto,q_auto/ec4d46c8c43544a89990a9fa0127ee88_9366/Nite_Jogger_Shoes_White_F34124_01_standard.jpg', 'adidas', 'adidas Nite Jogger Shoes - White | adidas US'], ['EE7077', 'https://www.adidas.com/us/kamanda-shoes/EE7077.html', 'https://assets.adidas.com/images/w_600,f_auto,q_auto/abcb717d2196492a86c4aac000ca72e2_9366/Kamanda_Shoes_White_EE7077_01_standard.jpg', 'adidas', 'adidas Kamanda Shoes - White | adidas US'], ['F34429', 'https://www.adidas.com/us/nemeziz-19.3-turf-shoes/F34429.html', 'https://assets.adidas.com/images/w_600,f_auto,q_auto/37e905dedcc4408cb323aa24009562d2_9366/Nemeziz_19.3_Turf_Shoes_Blue_F34429_01_standard.jpg', 'adidas', 'adidas Nemeziz 19.3 Turf Shoes - Blue | adidas US'], ['EG1687', 'https://www.adidas.com/us/white-mountaineering-nite-jogger-shoes/EG1687.html', 'https://assets.adidas.com/images/w_600,f_auto,q_auto/7e52c35faf09484883daaab80115db95_9366/White_Mountaineering_Nite_Jogger_Shoes_White_EG1687_01_standard.jpg', 'adidas', 'adidas White Mountaineering Nite Jogger Shoes - White | adidas US'], ['DB1132', 'https://www.adidas.com/us/ultraboost-uncaged-shoes/DB1132.html', 'https://assets.adidas.com/images/w_600,f_auto,q_auto/97c65b2d91f8441aa4aaa81101008400_9366/Ultraboost_Uncaged_Shoes_White_DB1132_01_standard.jpg', 'adidas', 'adidas Ultraboost Uncaged Shoes - White | adidas US'], ['EE5107', 'https://www.adidas.com/us/nmd_r1-shoes/EE5107.html', 'https://assets.adidas.com/images/w_600,f_auto,q_auto/c730ce6803f7423ab9a3aa7900ebab2b_9366/NMD_R1_Shoes_Black_EE5107_01_standard.jpg', 'adidas', 'adidas NMD_R1 Shoes - Black | adidas US'], ['EE5317', 'https://www.adidas.com/us/yung-1-shoes/EE5317.html', 'https://assets.adidas.com/images/w_600,f_auto,q_auto/0354592e39ed44ca8610aa2c011d56fb_9366/Yung_1_Shoes_Black_EE5317_01_standard.jpg', 'adidas', 'adidas Yung-1 Shoes - Black | adidas US']]\n",
      "7\n"
     ]
    },
    {
     "ename": "NameError",
     "evalue": "name 'list_col_color' is not defined",
     "output_type": "error",
     "traceback": [
      "\u001b[0;31m---------------------------------------------------------------------------\u001b[0m",
      "\u001b[0;31mNameError\u001b[0m                                 Traceback (most recent call last)",
      "\u001b[0;32m<ipython-input-15-f96f8227b35b>\u001b[0m in \u001b[0;36m<module>\u001b[0;34m\u001b[0m\n\u001b[1;32m     31\u001b[0m             ]\n\u001b[1;32m     32\u001b[0m           }\n\u001b[0;32m---> 33\u001b[0;31m     \u001b[0mlist_col_color\u001b[0m\u001b[0;34m.\u001b[0m\u001b[0mappend\u001b[0m\u001b[0;34m(\u001b[0m\u001b[0mcol_1\u001b[0m\u001b[0;34m)\u001b[0m\u001b[0;34m\u001b[0m\u001b[0;34m\u001b[0m\u001b[0m\n\u001b[0m\u001b[1;32m     34\u001b[0m \u001b[0mprint\u001b[0m\u001b[0;34m(\u001b[0m\u001b[0mlist_col_color\u001b[0m\u001b[0;34m)\u001b[0m\u001b[0;34m\u001b[0m\u001b[0;34m\u001b[0m\u001b[0m\n\u001b[1;32m     35\u001b[0m \u001b[0;34m\u001b[0m\u001b[0m\n",
      "\u001b[0;31mNameError\u001b[0m: name 'list_col_color' is not defined"
     ]
    }
   ],
   "source": [
    "import numpy as np\n",
    "import pandas as pd\n",
    "df = pd.read_csv('database/adidas.csv', encoding=\"utf-8\")\n",
    "list_shoes_pic = df[[\"商品型號\",\"商品網址\",\"商品照片\",\"品牌\",\"商品標題\"]]#EE6461\n",
    "list_shoes = list_shoes_pic.sample(7)\n",
    "shoes_data = np.array(list_shoes)#np.ndarray()\n",
    "list_shoes=shoes_data.tolist()#list\n",
    "print(list_shoes)\n",
    "number = len(list_shoes)\n",
    "print(number)\n",
    "for i in range(0, number):\n",
    "    #輸入值\n",
    "#   main_color, web_shoes, web_pic, name_shoes = list_shoes[i]\n",
    "    web_shoes = list_shoes[i][1]\n",
    "    web_pic = list_shoes[i][2]\n",
    "    main_color = list_shoes[i][0]\n",
    "    second_color = list_shoes[i][3]\n",
    "    name_shoes = list_shoes[i][4]\n",
    "\n",
    "    #循環加到 list_col_color\n",
    "    col_1 = {\n",
    "            \"thumbnailImageUrl\": web_pic,\n",
    "            \"title\": \"所顏是否?\",\n",
    "            \"text\": main_color,\n",
    "            \"actions\": [\n",
    "              {\n",
    "                \"type\": \"postback\",\n",
    "                \"label\": second_color,\n",
    "                \"text\": web_shoes,\n",
    "                \"data\": \"tag=maincolor|Secondarycolor|\"+name_shoes\n",
    "              }\n",
    "            ]\n",
    "          }\n",
    "    list_col_color.append(col_1)\n",
    "print(list_col_color)\n",
    "\n",
    "#輸出到linebot輪播\n",
    "dc = '素材/商品推薦/reply.json'\n",
    "data =[\n",
    "    {\n",
    "    \"type\": \"template\",\n",
    "    \"altText\": \"this is a carousel template\",\n",
    "    \"template\":\n",
    "    {\n",
    "        \"type\": \"carousel\",\n",
    "        \"actions\": [],\n",
    "        \"columns\": list_col_color\n",
    "    }\n",
    "    }\n",
    "]\n",
    "\n",
    "with open(dc, \"w\") as f:\n",
    "    json.dump(data, f)"
   ]
  },
  {
   "cell_type": "code",
   "execution_count": 16,
   "metadata": {},
   "outputs": [
    {
     "name": "stdout",
     "output_type": "stream",
     "text": [
      "Collecting kafka\n",
      "\u001b[?25l  Downloading https://files.pythonhosted.org/packages/21/71/73286e748ac5045b6a669c2fe44b03ac4c5d3d2af9291c4c6fc76438a9a9/kafka-1.3.5-py2.py3-none-any.whl (207kB)\n",
      "\u001b[K     |████████████████████████████████| 215kB 250kB/s eta 0:00:01\n",
      "\u001b[?25hInstalling collected packages: kafka\n",
      "Successfully installed kafka-1.3.5\n",
      "Note: you may need to restart the kernel to use updated packages.\n"
     ]
    }
   ],
   "source": [
    "pip install kafka"
   ]
  }
 ],
 "metadata": {
  "celltoolbar": "Raw Cell Format",
  "kernelspec": {
   "display_name": "Python 3",
   "language": "python",
   "name": "python3"
  },
  "language_info": {
   "codemirror_mode": {
    "name": "ipython",
    "version": 3
   },
   "file_extension": ".py",
   "mimetype": "text/x-python",
   "name": "python",
   "nbconvert_exporter": "python",
   "pygments_lexer": "ipython3",
   "version": "3.7.3"
  }
 },
 "nbformat": 4,
 "nbformat_minor": 2
}
