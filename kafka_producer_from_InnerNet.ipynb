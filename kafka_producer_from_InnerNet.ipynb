{
 "cells": [
  {
   "cell_type": "code",
   "execution_count": 1,
   "metadata": {
    "scrolled": false
   },
   "outputs": [
    {
     "name": "stdout",
     "output_type": "stream",
     "text": [
      "Start sending messages ...\n",
      "RecordMetadata(topic='temperature', partition=0, topic_partition=TopicPartition(topic='temperature', partition=0), offset=1190, timestamp=1572936894344, checksum=None, serialized_key_size=-1, serialized_value_size=103, serialized_header_size=-1)\n",
      "RecordMetadata(topic='humidity', partition=0, topic_partition=TopicPartition(topic='humidity', partition=0), offset=97, timestamp=1572936894647, checksum=None, serialized_key_size=-1, serialized_value_size=97, serialized_header_size=-1)\n",
      "Message sending completed!\n",
      "Start sending messages ...\n",
      "RecordMetadata(topic='temperature', partition=0, topic_partition=TopicPartition(topic='temperature', partition=0), offset=1191, timestamp=1572936896896, checksum=None, serialized_key_size=-1, serialized_value_size=105, serialized_header_size=-1)\n",
      "RecordMetadata(topic='humidity', partition=0, topic_partition=TopicPartition(topic='humidity', partition=0), offset=98, timestamp=1572936896907, checksum=None, serialized_key_size=-1, serialized_value_size=99, serialized_header_size=-1)\n",
      "Message sending completed!\n",
      "Start sending messages ...\n",
      "RecordMetadata(topic='temperature', partition=0, topic_partition=TopicPartition(topic='temperature', partition=0), offset=1192, timestamp=1572936899163, checksum=None, serialized_key_size=-1, serialized_value_size=104, serialized_header_size=-1)\n",
      "RecordMetadata(topic='humidity', partition=0, topic_partition=TopicPartition(topic='humidity', partition=0), offset=99, timestamp=1572936899181, checksum=None, serialized_key_size=-1, serialized_value_size=98, serialized_header_size=-1)\n",
      "Message sending completed!\n",
      "Start sending messages ...\n",
      "RecordMetadata(topic='temperature', partition=0, topic_partition=TopicPartition(topic='temperature', partition=0), offset=1193, timestamp=1572936901441, checksum=None, serialized_key_size=-1, serialized_value_size=104, serialized_header_size=-1)\n",
      "RecordMetadata(topic='humidity', partition=0, topic_partition=TopicPartition(topic='humidity', partition=0), offset=100, timestamp=1572936901452, checksum=None, serialized_key_size=-1, serialized_value_size=99, serialized_header_size=-1)\n",
      "Message sending completed!\n"
     ]
    },
    {
     "ename": "KeyboardInterrupt",
     "evalue": "",
     "output_type": "error",
     "traceback": [
      "\u001b[0;31m---------------------------------------------------------------------------\u001b[0m",
      "\u001b[0;31mKeyboardInterrupt\u001b[0m                         Traceback (most recent call last)",
      "\u001b[0;32m<ipython-input-1-13703ec2fce5>\u001b[0m in \u001b[0;36m<module>\u001b[0;34m\u001b[0m\n\u001b[1;32m     63\u001b[0m             \u001b[0mproducer1\u001b[0m\u001b[0;34m.\u001b[0m\u001b[0mclose\u001b[0m\u001b[0;34m(\u001b[0m\u001b[0;34m)\u001b[0m\u001b[0;34m\u001b[0m\u001b[0;34m\u001b[0m\u001b[0m\n\u001b[1;32m     64\u001b[0m             \u001b[0mproducer2\u001b[0m\u001b[0;34m.\u001b[0m\u001b[0mclose\u001b[0m\u001b[0;34m(\u001b[0m\u001b[0;34m)\u001b[0m\u001b[0;34m\u001b[0m\u001b[0;34m\u001b[0m\u001b[0m\n\u001b[0;32m---> 65\u001b[0;31m             \u001b[0mtime\u001b[0m\u001b[0;34m.\u001b[0m\u001b[0msleep\u001b[0m\u001b[0;34m(\u001b[0m\u001b[0;36m2\u001b[0m\u001b[0;34m)\u001b[0m\u001b[0;34m\u001b[0m\u001b[0;34m\u001b[0m\u001b[0m\n\u001b[0m",
      "\u001b[0;31mKeyboardInterrupt\u001b[0m: "
     ]
    }
   ],
   "source": [
    "from kafka import KafkaProducer\n",
    "import sys, random, datetime, time, json\n",
    "\n",
    "while True:\n",
    "    if __name__ == \"__main__\":\n",
    "        # 設定要連線到Kafka集群的相關設定, 並產生一個Kafka的Producer的實例\n",
    "        producer1 = KafkaProducer(\n",
    "            # 指定Kafka集群伺服器([\"docker.compose.host.name:9092\"])\n",
    "            bootstrap_servers = [\"34.80.160.58:9092\"],\n",
    "            # 指定msgKey的序列化器, 若Key為None, 無法序列化, 透過producer直接給值\n",
    "            #key_serializer = str.encode,\n",
    "            # 指定msgValue的序列化器\n",
    "            #value_serializer = str.encode,\n",
    "            value_serializer = lambda m: json.dumps(m).encode('ascii'),\n",
    "        )\n",
    "\n",
    "        producer2 = KafkaProducer(\n",
    "            # 指定Kafka集群伺服器([\"docker.compose.host.name:9092\"])\n",
    "            bootstrap_servers = [\"kafka:9092\"],\n",
    "            # 指定msgKey的序列化器, 若Key為None, 無法序列化, 透過producer直接給值\n",
    "            #key_serializer = str.encode,\n",
    "            # 指定msgValue的序列化器\n",
    "            #value_serializer = str.encode,\n",
    "            value_serializer = lambda m: json.dumps(m).encode('ascii'),\n",
    "        )\n",
    "\n",
    "\n",
    "        try:\n",
    "            device_id = \"001\"\n",
    "            t = datetime.datetime.now().strftime(\"%Y-%m-%d %H:%M:%S\")\n",
    "            temp = round(random.uniform(18, 30), 2)\n",
    "            humidity = random.randint(0, 100)\n",
    "            rd = random.random()\n",
    "            tt = {\"device_id\": device_id, \"timestamp\": t, \"Temperature\": temp, 'rd': rd}\n",
    "            hh = {\"device_id\": device_id, \"timestamp\": t, \"Humidity\": humidity, 'rd': rd}\n",
    "\n",
    "            print(\"Start sending messages ...\")\n",
    "            # 產生要發佈到Kafka的訊息\n",
    "    #         producer1.send(topic=\"temperature\", value=tt)\n",
    "    #         producer2.send(topic=\"humidity\", value=hh)\n",
    "            # producer.send(topic=topicName, key=msgKey, value=msgValue)\n",
    "            future1 = producer1.send(topic=\"temperature\", value=tt)\n",
    "            record_metadata1 = future1.get(timeout=10)\n",
    "            print(record_metadata1)\n",
    "\n",
    "            future2 = producer2.send(topic=\"humidity\", value=hh)\n",
    "            record_metadata2 = future2.get(timeout=10)\n",
    "            print(record_metadata2)\n",
    "            print(\"Message sending completed!\")\n",
    "\n",
    "        except Exception as e:\n",
    "            # 錯誤處理\n",
    "            e_type, e_value, e_traceback = sys.exc_info()\n",
    "            print(\"type ==> %s\" % (e_type))\n",
    "            print(\"value ==> %s\" % (e_value))\n",
    "            print(\"traceback ==> file name: %s\" % (e_traceback.tb_frame.f_code.co_filename))\n",
    "            print(\"traceback ==> line no: %s\" % (e_traceback.tb_lineno))\n",
    "            print(\"traceback ==> function name: %s\" % (e_traceback.tb_frame.f_code.co_name))\n",
    "\n",
    "\n",
    "        finally:\n",
    "            # 關掉Producer實例的連線\n",
    "            producer1.close()\n",
    "            producer2.close()\n",
    "            time.sleep(2)"
   ]
  },
  {
   "cell_type": "code",
   "execution_count": null,
   "metadata": {},
   "outputs": [],
   "source": []
  }
 ],
 "metadata": {
  "kernelspec": {
   "display_name": "Python 3",
   "language": "python",
   "name": "python3"
  },
  "language_info": {
   "codemirror_mode": {
    "name": "ipython",
    "version": 3
   },
   "file_extension": ".py",
   "mimetype": "text/x-python",
   "name": "python",
   "nbconvert_exporter": "python",
   "pygments_lexer": "ipython3",
   "version": "3.7.3"
  }
 },
 "nbformat": 4,
 "nbformat_minor": 2
}
